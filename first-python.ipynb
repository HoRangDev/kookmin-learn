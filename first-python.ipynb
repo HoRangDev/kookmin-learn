{
 "cells": [
  {
   "cell_type": "markdown",
   "metadata": {
    "deletable": true,
    "editable": true
   },
   "source": [
    "# 비트 논리 연산자에 대한 간단한 정리\n",
    "\n",
    "뭔가 많아 보이지만 차근차근 읽어보세요! :)\n"
   ]
  },
  {
   "cell_type": "markdown",
   "metadata": {
    "deletable": true,
    "editable": true
   },
   "source": [
    "## 1. 먼저 a와 b를 60과 13으로 놓아보자"
   ]
  },
  {
   "cell_type": "code",
   "execution_count": 1,
   "metadata": {
    "collapsed": true,
    "deletable": true,
    "editable": true
   },
   "outputs": [],
   "source": [
    "a = 60\n",
    "b = 13"
   ]
  },
  {
   "cell_type": "markdown",
   "metadata": {
    "deletable": true,
    "editable": true
   },
   "source": [
    "## 2. a와 b는 아래와 같이 2진수(bit)로 표현이 가능하다\n",
    "비트는 0과 1로 표현가능한것을 의미한다\n",
    "```\n",
    "a = 0011 1100\n",
    "b = 0000 1101\n",
    "```\n",
    "\n",
    "위의 비트를 비교하는 연산자를 이용해서 계산을 할 수 있다\n",
    "\n",
    "----\n",
    "## & 연산자 : AND 연산. 둘다 참일때만 만족\n",
    "a 와 b의 맨첫번째를 보면 0과 0이 있다. 둘다 거짓(0)임으로 0이 나온다\n",
    "즉 아래와 같이 계산이 가능하다\n",
    "```\n",
    "a = 0011 1100\n",
    "b = 0000 1101\n",
    "    0000 1100 (&연산자 결과)\n",
    "```\n",
    "    "
   ]
  },
  {
   "cell_type": "code",
   "execution_count": 2,
   "metadata": {
    "collapsed": false,
    "deletable": true,
    "editable": true
   },
   "outputs": [
    {
     "name": "stdout",
     "output_type": "stream",
     "text": [
      "0b1100\n"
     ]
    }
   ],
   "source": [
    "print(bin(a & b))"
   ]
  },
  {
   "cell_type": "markdown",
   "metadata": {
    "deletable": true,
    "editable": true
   },
   "source": [
    "----\n",
    "## | 연산자 : OR 연산. 둘 중 하나만 참이여도 만족\n",
    "```\n",
    "a = 0011 1100\n",
    "b = 0000 1101\n",
    "    0011 1101 (| 연산자 결과)\n",
    "```"
   ]
  },
  {
   "cell_type": "code",
   "execution_count": 3,
   "metadata": {
    "collapsed": false,
    "deletable": true,
    "editable": true
   },
   "outputs": [
    {
     "name": "stdout",
     "output_type": "stream",
     "text": [
      "0b111101\n"
     ]
    }
   ],
   "source": [
    "print(bin(a | b))"
   ]
  },
  {
   "cell_type": "markdown",
   "metadata": {
    "deletable": true,
    "editable": true
   },
   "source": [
    "----\n",
    "## ^ 연산자 : XOR 연산. 둘 중 하나만 참일 때 만족 (but! 1 과 1은 0으로 처리)\n",
    "```\n",
    "a = 0011 1100\n",
    "b = 0000 1101\n",
    "    0011 0001 (^ 연산자 결과)\n",
    "```"
   ]
  },
  {
   "cell_type": "code",
   "execution_count": 4,
   "metadata": {
    "collapsed": false,
    "deletable": true,
    "editable": true
   },
   "outputs": [
    {
     "name": "stdout",
     "output_type": "stream",
     "text": [
      "0b110001\n"
     ]
    }
   ],
   "source": [
    "print(bin(a ^ b))"
   ]
  },
  {
   "cell_type": "markdown",
   "metadata": {
    "deletable": true,
    "editable": true
   },
   "source": [
    "-----\n",
    "\n",
    "## ~ 연산자 : 보수 연산.\n",
    "```\n",
    "a = 0011 1100\n",
    "    1100 0011 (~ 보수 결과)\n",
    "```"
   ]
  },
  {
   "cell_type": "code",
   "execution_count": 5,
   "metadata": {
    "collapsed": false,
    "deletable": true,
    "editable": true
   },
   "outputs": [
    {
     "name": "stdout",
     "output_type": "stream",
     "text": [
      "0b11111111111111111111111111110010\n"
     ]
    }
   ],
   "source": [
    "# 0xff == 0b11111111\n",
    "print(bin(~b & 0xffffffff))"
   ]
  }
 ],
 "metadata": {
  "kernelspec": {
   "display_name": "Python 3",
   "language": "python",
   "name": "python3"
  },
  "language_info": {
   "codemirror_mode": {
    "name": "ipython",
    "version": 3
   },
   "file_extension": ".py",
   "mimetype": "text/x-python",
   "name": "python",
   "nbconvert_exporter": "python",
   "pygments_lexer": "ipython3",
   "version": "3.6.0"
  }
 },
 "nbformat": 4,
 "nbformat_minor": 2
}
